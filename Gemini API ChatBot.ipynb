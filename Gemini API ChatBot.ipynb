{
 "cells": [
  {
   "cell_type": "code",
   "execution_count": 2,
   "id": "a4a58c61",
   "metadata": {},
   "outputs": [],
   "source": [
    "#!pip install google.generativeai"
   ]
  },
  {
   "cell_type": "code",
   "execution_count": 10,
   "id": "f049b0ad",
   "metadata": {},
   "outputs": [
    {
     "name": "stdout",
     "output_type": "stream",
     "text": [
      "Overwriting ChatBot.py\n"
     ]
    }
   ],
   "source": [
    "%%writefile ChatBot.py\n",
    "import streamlit as st\n",
    "import google.generativeai as genai\n",
    "\n",
    "api = 'write your api'\n",
    "\n",
    "st.title('Google API Text Generator')\n",
    "\n",
    "#configure google Generative AI\n",
    "if api:\n",
    "    genai.configure(api_key = api)\n",
    "else:\n",
    "    st.error('Your API Key is Not Found')\n",
    "    \n",
    "#Function to generate text using google API\n",
    "def Generate_Text(text):\n",
    "    #call generative model from google\n",
    "    model = genai.GenerativeModel('gemini-pro')\n",
    "    #generate response from Gemini\n",
    "    response = model.generate_content(text)\n",
    "    return response.text\n",
    "\n",
    "if 'messages' not in st.session_state:\n",
    "    st.session_state.messages = []\n",
    "    \n",
    "#display all messages\n",
    "for message in st.session_state.messages:\n",
    "    with st.chat_message(message['role']): #role ----> user / assistant\n",
    "        st.markdown(message['content']) #content ----> user_input / response\n",
    "        \n",
    "#input area for user input\n",
    "if user_input := st.chat_input(\"Please Enter the Text....\"):\n",
    "        \n",
    "        #display user message\n",
    "        with st.chat_message(\"user\"):\n",
    "            st.markdown(user_input)\n",
    "            \n",
    "        #append user messages to session state\n",
    "        st.session_state.messages.append({'role':'user', 'content' :user_input})\n",
    "        \n",
    "        #generate response from google api\n",
    "        with st.chat_message('assistant'):\n",
    "            message_placeholder = st.empty()\n",
    "            with st.spinner('Generating Response....'):\n",
    "                response_text = Generate_Text(user_input)\n",
    "                message_placeholder.markdown(f'{response_text}')\n",
    "                \n",
    "        #append user messages to session state\n",
    "        st.session_state.messages.append({'role':'assistant', 'content' :response_text})"
   ]
  },
  {
   "cell_type": "code",
   "execution_count": null,
   "id": "367ef292",
   "metadata": {},
   "outputs": [],
   "source": []
  }
 ],
 "metadata": {
  "kernelspec": {
   "display_name": "Python 3 (ipykernel)",
   "language": "python",
   "name": "python3"
  },
  "language_info": {
   "codemirror_mode": {
    "name": "ipython",
    "version": 3
   },
   "file_extension": ".py",
   "mimetype": "text/x-python",
   "name": "python",
   "nbconvert_exporter": "python",
   "pygments_lexer": "ipython3",
   "version": "3.11.4"
  }
 },
 "nbformat": 4,
 "nbformat_minor": 5
}
